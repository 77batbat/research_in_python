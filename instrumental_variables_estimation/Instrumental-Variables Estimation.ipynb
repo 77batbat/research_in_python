{
 "cells": [
  {
   "cell_type": "code",
   "execution_count": 28,
   "metadata": {
    "collapsed": false
   },
   "outputs": [],
   "source": [
    "%matplotlib inline\n",
    "# RESEARCH IN PYTHON: INSTRUMENTAL VARIABLES ESTIMATION\n",
    "# by J. NATHAN MATIAS March 18, 2015\n",
    "\n",
    "# THE SOFTWARE IS PROVIDED \"AS IS\", WITHOUT WARRANTY OF ANY KIND, EXPRESS OR\n",
    "# IMPLIED, INCLUDING BUT NOT LIMITED TO THE WARRANTIES OF MERCHANTABILITY,\n",
    "# FITNESS FOR A PARTICULAR PURPOSE AND NONINFRINGEMENT. IN NO EVENT SHALL THE\n",
    "# AUTHORS OR COPYRIGHT HOLDERS BE LIABLE FOR ANY CLAIM, DAMAGES OR OTHER\n",
    "# LIABILITY, WHETHER IN AN ACTION OF CONTRACT, TORT OR OTHERWISE, ARISING FROM,\n",
    "# OUT OF OR IN CONNECTION WITH THE SOFTWARE OR THE USE OR OTHER DEALINGS IN\n",
    "# THE SOFTWARE.\n",
    "\n",
    "# THINGS TO IMPORT\n",
    "# This is a good baseline set of libraries to import by default if you're rushed for time.\n",
    "\n",
    "import codecs                     # load UTF-8 Content\n",
    "import json                       # load JSON files\n",
    "import pandas as pd               # Pandas handles dataframes\n",
    "import numpy as np                # Numpy handles lots of basic maths operations\n",
    "import matplotlib.pyplot as plt   # Matplotlib for plotting\n",
    "import seaborn as sns             # Seaborn for beautiful plots\n",
    "from dateutil import *            # I prefer dateutil for parsing dates\n",
    "import math                       # transformations\n",
    "import statsmodels.formula.api as smf  # for doing statistical regression\n",
    "import statsmodels.api as sm      # access to the wider statsmodels library, including R datasets\n",
    "from collections import Counter   # Counter is useful for grouping and counting\n",
    "import scipy"
   ]
  },
  {
   "cell_type": "markdown",
   "metadata": {},
   "source": [
    "# Instrumental Variables Estimation"
   ]
  },
  {
   "cell_type": "markdown",
   "metadata": {},
   "source": [
    "This section is taken from [Chapter 10](http://www.ats.ucla.edu/stat/stata/examples/methods_matter/chapter10/default.htm) of [Methods Matter](http://www.ats.ucla.edu/stat/examples/methods_matter/) by Richard Murnane and John Willett. The descriptions are taken from Wikipedia, for copyright reasons.\n",
    "\n",
    "In statistics, econometrics, epidemiology and related disciplines, the method of instrumental variables (IV) is used to estimate causal relationships when controlled experiments are not feasible or when a treatment is not successfully delivered to every unit in a randomized experiment.\n",
    "\n",
    "In linear models, there are two main requirements for using an IV:\n",
    "\n",
    "* The instrument *must* be correlated with the *endogenous explanatory variables*, conditional on the other covariates.\n",
    "* The instrument *cannot* be correlated with the *error term* in the explanatory equation (conditional on the other covariates), that is, the instrument cannot suffer from the same problem as the original predicting variable.\n"
   ]
  },
  {
   "cell_type": "markdown",
   "metadata": {},
   "source": [
    "# Example: Predicting Civic Engagement from College Attainment"
   ]
  },
  {
   "cell_type": "markdown",
   "metadata": {},
   "source": [
    "Can we use college attainment (COLLEGE) to predict the probability of civic engagement (REGISTER)? College attainment is not randomized, and the arrow of causality may move in the opposite direction, so all we can do with standard regression is to establish a correlation.\n",
    "\n",
    "In this example, we use an _Instrumental Variable_ of distance between the student's school and a community college (DISTANCE), to estimate a causal relationship. This is possible only if this variable is related to college attainment and NOT related to the residuals of regressing COLLEGE on REGISTER. \n",
    "\n",
    "The python code listed here is roughly parallel to [the code listed in the textbook example](http://www.ats.ucla.edu/stat/stata/examples/methods_matter/chapter10/default.htm) for Methods Matter Chapter 10. If you're curious about how to do a similar example in R, check out \"[A Simple Instrumental Variables Problem](http://www.r-bloggers.com/a-simple-instrumental-variables-problem/)\" by Adam Hyland in R-Bloggers or Ani Katchova's \"[Instrumental Variables in R](https://www.youtube.com/watch?v=OwM3BgWEgUg) video on YouTube."
   ]
  },
  {
   "cell_type": "markdown",
   "metadata": {},
   "source": [
    "# Acquire Dee Dataset from Methods Matter"
   ]
  },
  {
   "cell_type": "code",
   "execution_count": 29,
   "metadata": {
    "collapsed": false
   },
   "outputs": [],
   "source": [
    "import urllib2\n",
    "import os.path\n",
    "if(os.path.isfile(\"dee.dta\")!=True):\n",
    "    response = urllib2.urlopen(\"http://www.ats.ucla.edu/stat/stata/examples/methods_matter/chapter10/dee.dta\")\n",
    "    if(response.getcode()==200):\n",
    "        f = open(\"dee.dta\",\"w\")\n",
    "        f.write(response.read())\n",
    "        f.close()\n",
    "dee_df = pd.read_stata(\"dee.dta\")"
   ]
  },
  {
   "cell_type": "markdown",
   "metadata": {
    "collapsed": false
   },
   "source": [
    "# Summary Statistics"
   ]
  },
  {
   "cell_type": "code",
   "execution_count": 30,
   "metadata": {
    "collapsed": false
   },
   "outputs": [
    {
     "data": {
      "text/html": [
       "<div style=\"max-height:1000px;max-width:1500px;overflow:auto;\">\n",
       "<table border=\"1\" class=\"dataframe\">\n",
       "  <thead>\n",
       "    <tr style=\"text-align: right;\">\n",
       "      <th></th>\n",
       "      <th>register</th>\n",
       "      <th>college</th>\n",
       "      <th>distance</th>\n",
       "    </tr>\n",
       "  </thead>\n",
       "  <tbody>\n",
       "    <tr>\n",
       "      <th>count</th>\n",
       "      <td> 9227.000000</td>\n",
       "      <td> 9227.000000</td>\n",
       "      <td> 9227.000000</td>\n",
       "    </tr>\n",
       "    <tr>\n",
       "      <th>mean</th>\n",
       "      <td>    0.670857</td>\n",
       "      <td>    0.547090</td>\n",
       "      <td>    9.735992</td>\n",
       "    </tr>\n",
       "    <tr>\n",
       "      <th>std</th>\n",
       "      <td>    0.469927</td>\n",
       "      <td>    0.497805</td>\n",
       "      <td>    8.702286</td>\n",
       "    </tr>\n",
       "    <tr>\n",
       "      <th>min</th>\n",
       "      <td>    0.000000</td>\n",
       "      <td>    0.000000</td>\n",
       "      <td>    0.000000</td>\n",
       "    </tr>\n",
       "    <tr>\n",
       "      <th>25%</th>\n",
       "      <td>    0.000000</td>\n",
       "      <td>    0.000000</td>\n",
       "      <td>    3.000000</td>\n",
       "    </tr>\n",
       "    <tr>\n",
       "      <th>50%</th>\n",
       "      <td>    1.000000</td>\n",
       "      <td>    1.000000</td>\n",
       "      <td>    7.000000</td>\n",
       "    </tr>\n",
       "    <tr>\n",
       "      <th>75%</th>\n",
       "      <td>    1.000000</td>\n",
       "      <td>    1.000000</td>\n",
       "      <td>   15.000001</td>\n",
       "    </tr>\n",
       "    <tr>\n",
       "      <th>max</th>\n",
       "      <td>    1.000000</td>\n",
       "      <td>    1.000000</td>\n",
       "      <td>   35.000000</td>\n",
       "    </tr>\n",
       "  </tbody>\n",
       "</table>\n",
       "</div>"
      ],
      "text/plain": [
       "          register      college     distance\n",
       "count  9227.000000  9227.000000  9227.000000\n",
       "mean      0.670857     0.547090     9.735992\n",
       "std       0.469927     0.497805     8.702286\n",
       "min       0.000000     0.000000     0.000000\n",
       "25%       0.000000     0.000000     3.000000\n",
       "50%       1.000000     1.000000     7.000000\n",
       "75%       1.000000     1.000000    15.000001\n",
       "max       1.000000     1.000000    35.000000"
      ]
     },
     "execution_count": 30,
     "metadata": {},
     "output_type": "execute_result"
    }
   ],
   "source": [
    "dee_df[['register','college', 'distance']].describe()"
   ]
  },
  {
   "cell_type": "markdown",
   "metadata": {
    "collapsed": false
   },
   "source": [
    "# Cross-Tabulation"
   ]
  },
  {
   "cell_type": "code",
   "execution_count": 31,
   "metadata": {
    "collapsed": false
   },
   "outputs": [
    {
     "name": "stdout",
     "output_type": "stream",
     "text": [
      "college      0     1\n",
      "register            \n",
      "0         1780  1257\n",
      "1         2399  3791\n",
      "chi2: 323\n",
      "p: 0.000\n",
      "df: 1.000\n",
      "expected:\n",
      "[[ 1375.48748239  1661.51251761]\n",
      " [ 2803.51251761  3386.48748239]]\n"
     ]
    }
   ],
   "source": [
    "print pd.crosstab(dee_df.register, dee_df.college)\n",
    "chi2 = scipy.stats.chi2_contingency(pd.crosstab(dee_df.register, dee_df.college))\n",
    "print \"chi2: %(c)d\" % {\"c\":chi2[0]}\n",
    "print \"p: %(p)0.03f\" % {\"p\":chi2[1]}\n",
    "print \"df: %(df)0.03f\" % {\"df\":chi2[2]}\n",
    "print \"expected:\"\n",
    "print chi2[3]"
   ]
  },
  {
   "cell_type": "markdown",
   "metadata": {},
   "source": [
    "# Correlation Matrix"
   ]
  },
  {
   "cell_type": "code",
   "execution_count": 32,
   "metadata": {
    "collapsed": false
   },
   "outputs": [
    {
     "data": {
      "text/plain": [
       "<matplotlib.axes._subplots.AxesSubplot at 0x10bd71e50>"
      ]
     },
     "execution_count": 32,
     "metadata": {},
     "output_type": "execute_result"
    },
    {
     "data": {
      "image/png": "[encoded data removed]",
      "text/plain": [
       "<matplotlib.figure.Figure at 0x10be672d0>"
      ]
     },
     "metadata": {},
     "output_type": "display_data"
    }
   ],
   "source": [
    "sns.corrplot(dee_df[['register','college','distance']])"
   ]
  },
  {
   "cell_type": "markdown",
   "metadata": {},
   "source": [
    "# Linear Regression of REGISTER on COLLEGE"
   ]
  },
  {
   "cell_type": "code",
   "execution_count": 33,
   "metadata": {
    "collapsed": false
   },
   "outputs": [
    {
     "name": "stdout",
     "output_type": "stream",
     "text": [
      "                            OLS Regression Results                            \n",
      "==============================================================================\n",
      "Dep. Variable:               register   R-squared:                       0.035\n",
      "Model:                            OLS   Adj. R-squared:                  0.035\n",
      "Method:                 Least Squares   F-statistic:                     335.9\n",
      "Date:                Wed, 18 Mar 2015   Prob (F-statistic):           1.03e-73\n",
      "Time:                        22:15:12   Log-Likelihood:                -5959.0\n",
      "No. Observations:                9227   AIC:                         1.192e+04\n",
      "Df Residuals:                    9225   BIC:                         1.194e+04\n",
      "Df Model:                           1                                         \n",
      "Covariance Type:            nonrobust                                         \n",
      "==============================================================================\n",
      "                 coef    std err          t      P>|t|      [95.0% Conf. Int.]\n",
      "------------------------------------------------------------------------------\n",
      "Intercept      0.5741      0.007     80.391      0.000         0.560     0.588\n",
      "college        0.1769      0.010     18.326      0.000         0.158     0.196\n",
      "==============================================================================\n",
      "Omnibus:                      603.688   Durbin-Watson:                   1.955\n",
      "Prob(Omnibus):                  0.000   Jarque-Bera (JB):             1441.712\n",
      "Skew:                          -0.689   Prob(JB):                         0.00\n",
      "Kurtosis:                       1.640   Cond. No.                         2.74\n",
      "==============================================================================\n",
      "\n",
      "Warnings:\n",
      "[1] Standard Errors assume that the covariance matrix of the errors is correctly specified.\n"
     ]
    }
   ],
   "source": [
    "result = smf.ols(formula = \"register ~ college\", data = dee_df).fit()\n",
    "print result.summary()\n"
   ]
  },
  {
   "cell_type": "markdown",
   "metadata": {},
   "source": [
    "# Two-Stage Least Squares Regression of REGISTER ~ COLLEGE where IV=DISTANCE\n",
    "###using statsmodels.formula.api.ols"
   ]
  },
  {
   "cell_type": "markdown",
   "metadata": {},
   "source": [
    "In two-stage least squares regression, we regress COLLEGE on DISTANCE and use the predictions from that model as the predictors for REGISTER."
   ]
  },
  {
   "cell_type": "code",
   "execution_count": 34,
   "metadata": {
    "collapsed": false
   },
   "outputs": [
    {
     "name": "stdout",
     "output_type": "stream",
     "text": [
      "==============================================================================\n",
      "                                  FIRST STAGE\n",
      "==============================================================================\n",
      "                            OLS Regression Results                            \n",
      "==============================================================================\n",
      "Dep. Variable:                college   R-squared:                       0.012\n",
      "Model:                            OLS   Adj. R-squared:                  0.012\n",
      "Method:                 Least Squares   F-statistic:                     115.9\n",
      "Date:                Wed, 18 Mar 2015   Prob (F-statistic):           7.35e-27\n",
      "Time:                        22:15:12   Log-Likelihood:                -6598.2\n",
      "No. Observations:                9227   AIC:                         1.320e+04\n",
      "Df Residuals:                    9225   BIC:                         1.321e+04\n",
      "Df Model:                           1                                         \n",
      "Covariance Type:            nonrobust                                         \n",
      "==============================================================================\n",
      "                 coef    std err          t      P>|t|      [95.0% Conf. Int.]\n",
      "------------------------------------------------------------------------------\n",
      "Intercept      0.6091      0.008     78.812      0.000         0.594     0.624\n",
      "distance      -0.0064      0.001    -10.764      0.000        -0.008    -0.005\n",
      "==============================================================================\n",
      "Omnibus:                       54.830   Durbin-Watson:                   1.703\n",
      "Prob(Omnibus):                  0.000   Jarque-Bera (JB):             1463.752\n",
      "Skew:                          -0.190   Prob(JB):                         0.00\n",
      "Kurtosis:                       1.086   Cond. No.                         19.7\n",
      "==============================================================================\n",
      "\n",
      "Warnings:\n",
      "[1] Standard Errors assume that the covariance matrix of the errors is correctly specified.\n",
      "\n",
      "\n",
      "==============================================================================\n",
      "                                  SECOND STAGE\n",
      "==============================================================================\n",
      "                            OLS Regression Results                            \n",
      "==============================================================================\n",
      "Dep. Variable:               register   R-squared:                       0.001\n",
      "Model:                            OLS   Adj. R-squared:                  0.001\n",
      "Method:                 Least Squares   F-statistic:                     10.35\n",
      "Date:                Wed, 18 Mar 2015   Prob (F-statistic):            0.00130\n",
      "Time:                        22:15:12   Log-Likelihood:                -6118.9\n",
      "No. Observations:                9227   AIC:                         1.224e+04\n",
      "Df Residuals:                    9225   BIC:                         1.226e+04\n",
      "Df Model:                           1                                         \n",
      "Covariance Type:            nonrobust                                         \n",
      "==================================================================================\n",
      "                     coef    std err          t      P>|t|      [95.0% Conf. Int.]\n",
      "----------------------------------------------------------------------------------\n",
      "Intercept          0.5157      0.049     10.632      0.000         0.421     0.611\n",
      "college_fitted     0.2837      0.088      3.216      0.001         0.111     0.457\n",
      "==============================================================================\n",
      "Omnibus:                      658.930   Durbin-Watson:                   1.938\n",
      "Prob(Omnibus):                  0.000   Jarque-Bera (JB):             1638.898\n",
      "Skew:                          -0.726   Prob(JB):                         0.00\n",
      "Kurtosis:                       1.532   Cond. No.                         23.4\n",
      "==============================================================================\n",
      "\n",
      "Warnings:\n",
      "[1] Standard Errors assume that the covariance matrix of the errors is correctly specified.\n"
     ]
    }
   ],
   "source": [
    "print \"==============================================================================\"\n",
    "print \"                                  FIRST STAGE\"\n",
    "print \"==============================================================================\"\n",
    "result = smf.ols(formula = \"college ~ distance\", data = dee_df).fit()\n",
    "print result.summary()\n",
    "dee_df['college_fitted'] = result.predict()\n",
    "\n",
    "print\n",
    "print\n",
    "print \"==============================================================================\"\n",
    "print \"                                  SECOND STAGE\"\n",
    "print \"==============================================================================\"\n",
    "\n",
    "result = smf.ols(formula = \"register ~ college_fitted\", data=dee_df).fit()\n",
    "print result.summary()"
   ]
  },
  {
   "cell_type": "markdown",
   "metadata": {},
   "source": [
    "^^^^^^ Not sure what's going on with the R2 statistic here (it's 0.001 here, versus 0.022 in the example), although everything else matches what we see from the Stata output in the published example "
   ]
  },
  {
   "cell_type": "markdown",
   "metadata": {},
   "source": [
    "# Adding Covariates that do not satisfy the requirements of instrumental variables"
   ]
  },
  {
   "cell_type": "markdown",
   "metadata": {},
   "source": [
    "In the case of the covariate of race/ethicity, we expect that there might be a relationship between race/ethnicity and distance to a community college, as well as a relationship between race/ethnicity and voter registration. \n",
    "\n",
    "While race/ethnicity fails the test for instrumental variables, it can still be included as a covariate in a multiple regression model. In such cases, it is essential to include covariates at both stages of a two-stage test."
   ]
  },
  {
   "cell_type": "markdown",
   "metadata": {},
   "source": [
    "## Correlation Matrix"
   ]
  },
  {
   "cell_type": "code",
   "execution_count": 35,
   "metadata": {
    "collapsed": false
   },
   "outputs": [
    {
     "data": {
      "text/plain": [
       "<matplotlib.axes._subplots.AxesSubplot at 0x10c5ca810>"
      ]
     },
     "execution_count": 35,
     "metadata": {},
     "output_type": "execute_result"
    },
    {
     "data": {
      "image/png": "[encoded data removed]",
      "text/plain": [
       "<matplotlib.figure.Figure at 0x10be53210>"
      ]
     },
     "metadata": {},
     "output_type": "display_data"
    }
   ],
   "source": [
    "sns.corrplot(dee_df[['register','college','distance', 'black','hispanic','otherrace']])"
   ]
  },
  {
   "cell_type": "markdown",
   "metadata": {},
   "source": [
    "## Two-Stage Least Squares Regression of REGISTER ~ COLLEGE + BLACK + HISPANIC + OTHERRACE where IV=DISTANCE"
   ]
  },
  {
   "cell_type": "code",
   "execution_count": 36,
   "metadata": {
    "collapsed": false
   },
   "outputs": [
    {
     "name": "stdout",
     "output_type": "stream",
     "text": [
      "==============================================================================\n",
      "                                  FIRST STAGE\n",
      "==============================================================================\n",
      "                            OLS Regression Results                            \n",
      "==============================================================================\n",
      "Dep. Variable:                college   R-squared:                       0.022\n",
      "Model:                            OLS   Adj. R-squared:                  0.021\n",
      "Method:                 Least Squares   F-statistic:                     51.24\n",
      "Date:                Wed, 18 Mar 2015   Prob (F-statistic):           9.75e-43\n",
      "Time:                        22:15:20   Log-Likelihood:                -6554.4\n",
      "No. Observations:                9227   AIC:                         1.312e+04\n",
      "Df Residuals:                    9222   BIC:                         1.315e+04\n",
      "Df Model:                           4                                         \n",
      "Covariance Type:            nonrobust                                         \n",
      "==============================================================================\n",
      "                 coef    std err          t      P>|t|      [95.0% Conf. Int.]\n",
      "------------------------------------------------------------------------------\n",
      "Intercept      0.6431      0.009     71.039      0.000         0.625     0.661\n",
      "distance      -0.0069      0.001    -11.636      0.000        -0.008    -0.006\n",
      "black         -0.0577      0.016     -3.613      0.000        -0.089    -0.026\n",
      "hispanic      -0.1162      0.013     -8.766      0.000        -0.142    -0.090\n",
      "otherrace      0.0337      0.024      1.404      0.160        -0.013     0.081\n",
      "==============================================================================\n",
      "Omnibus:                       53.726   Durbin-Watson:                   1.715\n",
      "Prob(Omnibus):                  0.000   Jarque-Bera (JB):             1408.886\n",
      "Skew:                          -0.188   Prob(JB):                    1.16e-306\n",
      "Kurtosis:                       1.123   Cond. No.                         62.3\n",
      "==============================================================================\n",
      "\n",
      "Warnings:\n",
      "[1] Standard Errors assume that the covariance matrix of the errors is correctly specified.\n",
      "\n",
      "\n",
      "==============================================================================\n",
      "                                  SECOND STAGE\n",
      "==============================================================================\n",
      "                            OLS Regression Results                            \n",
      "==============================================================================\n",
      "Dep. Variable:               register   R-squared:                       0.005\n",
      "Model:                            OLS   Adj. R-squared:                  0.004\n",
      "Method:                 Least Squares   F-statistic:                     10.53\n",
      "Date:                Wed, 18 Mar 2015   Prob (F-statistic):           1.65e-08\n",
      "Time:                        22:15:20   Log-Likelihood:                -6103.0\n",
      "No. Observations:                9227   AIC:                         1.222e+04\n",
      "Df Residuals:                    9222   BIC:                         1.225e+04\n",
      "Df Model:                           4                                         \n",
      "Covariance Type:            nonrobust                                         \n",
      "==================================================================================\n",
      "                     coef    std err          t      P>|t|      [95.0% Conf. Int.]\n",
      "----------------------------------------------------------------------------------\n",
      "Intercept          0.5266      0.047     11.200      0.000         0.434     0.619\n",
      "college_fitted     0.2489      0.082      3.041      0.002         0.088     0.409\n",
      "black              0.0617      0.015      4.007      0.000         0.032     0.092\n",
      "hispanic           0.0283      0.015      1.879      0.060        -0.001     0.058\n",
      "otherrace         -0.1067      0.023     -4.604      0.000        -0.152    -0.061\n",
      "==============================================================================\n",
      "Omnibus:                      654.082   Durbin-Watson:                   1.939\n",
      "Prob(Omnibus):                  0.000   Jarque-Bera (JB):             1619.291\n",
      "Skew:                          -0.723   Prob(JB):                         0.00\n",
      "Kurtosis:                       1.543   Cond. No.                         22.6\n",
      "==============================================================================\n",
      "\n",
      "Warnings:\n",
      "[1] Standard Errors assume that the covariance matrix of the errors is correctly specified.\n"
     ]
    }
   ],
   "source": [
    "print \"==============================================================================\"\n",
    "print \"                                  FIRST STAGE\"\n",
    "print \"==============================================================================\"\n",
    "result = smf.ols(formula = \"college ~ distance + black + hispanic + otherrace\", data = dee_df).fit()\n",
    "print result.summary()\n",
    "dee_df['college_fitted'] = result.predict()\n",
    "\n",
    "print\n",
    "print\n",
    "print \"==============================================================================\"\n",
    "print \"                                  SECOND STAGE\"\n",
    "print \"==============================================================================\"\n",
    "\n",
    "result = smf.ols(formula = \"register ~ college_fitted + black + hispanic + otherrace\", data=dee_df).fit()\n",
    "print result.summary()"
   ]
  },
  {
   "cell_type": "markdown",
   "metadata": {},
   "source": [
    "# Interactions Between the Endogenous Question Predictor and Exogenous Covariates in the Second Stage Model"
   ]
  },
  {
   "cell_type": "markdown",
   "metadata": {},
   "source": [
    "In this case, we explore whether interactions between college and race/ethnicity are significant predictors of voter registration. Here, it's important to meet the \"rank condition\": that \"for every endogenous predictor included in the second stage, there must be at least one instrument included in the first stage.\"\n",
    "\n",
    "To do this, we need to create a series of stage-one instruments, one for the main effect, and one for each interaction. In "
   ]
  },
  {
   "cell_type": "code",
   "execution_count": 37,
   "metadata": {
    "collapsed": false
   },
   "outputs": [
    {
     "name": "stdout",
     "output_type": "stream",
     "text": [
      "==============================================================================\n",
      "                                  FIRST STAGE\n",
      "==============================================================================\n",
      "                            OLS Regression Results                            \n",
      "==============================================================================\n",
      "Dep. Variable:                college   R-squared:                       0.022\n",
      "Model:                            OLS   Adj. R-squared:                  0.021\n",
      "Method:                 Least Squares   F-statistic:                     29.57\n",
      "Date:                Wed, 18 Mar 2015   Prob (F-statistic):           1.12e-40\n",
      "Time:                        22:15:20   Log-Likelihood:                -6553.3\n",
      "No. Observations:                9227   AIC:                         1.312e+04\n",
      "Df Residuals:                    9219   BIC:                         1.318e+04\n",
      "Df Model:                           7                                         \n",
      "Covariance Type:            nonrobust                                         \n",
      "======================================================================================\n",
      "                         coef    std err          t      P>|t|      [95.0% Conf. Int.]\n",
      "--------------------------------------------------------------------------------------\n",
      "Intercept              0.6452      0.010     64.147      0.000         0.625     0.665\n",
      "distance              -0.0071      0.001     -9.830      0.000        -0.009    -0.006\n",
      "black                 -0.0651      0.023     -2.858      0.004        -0.110    -0.020\n",
      "hispanic              -0.1276      0.019     -6.588      0.000        -0.166    -0.090\n",
      "otherrace              0.0590      0.035      1.681      0.093        -0.010     0.128\n",
      "distance:black         0.0009      0.002      0.442      0.658        -0.003     0.005\n",
      "distance:hispanic      0.0013      0.002      0.818      0.413        -0.002     0.004\n",
      "distance:otherrace    -0.0030      0.003     -1.018      0.309        -0.009     0.003\n",
      "==============================================================================\n",
      "Omnibus:                       53.396   Durbin-Watson:                   1.715\n",
      "Prob(Omnibus):                  0.000   Jarque-Bera (JB):             1407.217\n",
      "Skew:                          -0.188   Prob(JB):                    2.67e-306\n",
      "Kurtosis:                       1.124   Cond. No.                         93.0\n",
      "==============================================================================\n",
      "\n",
      "Warnings:\n",
      "[1] Standard Errors assume that the covariance matrix of the errors is correctly specified.\n",
      "                            OLS Regression Results                            \n",
      "==============================================================================\n",
      "Dep. Variable:               register   R-squared:                       0.005\n",
      "Model:                            OLS   Adj. R-squared:                  0.004\n",
      "Method:                 Least Squares   F-statistic:                     6.691\n",
      "Date:                Wed, 18 Mar 2015   Prob (F-statistic):           6.29e-08\n",
      "Time:                        22:15:20   Log-Likelihood:                -6100.6\n",
      "No. Observations:                9227   AIC:                         1.222e+04\n",
      "Df Residuals:                    9219   BIC:                         1.227e+04\n",
      "Df Model:                           7                                         \n",
      "Covariance Type:            nonrobust                                         \n",
      "=====================================================================================\n",
      "                        coef    std err          t      P>|t|      [95.0% Conf. Int.]\n",
      "-------------------------------------------------------------------------------------\n",
      "Intercept             0.4640      0.056      8.360      0.000         0.355     0.573\n",
      "college_fitted        0.3587      0.097      3.703      0.000         0.169     0.549\n",
      "black                 0.2780      0.163      1.702      0.089        -0.042     0.598\n",
      "hispanic              0.1765      0.121      1.456      0.145        -0.061     0.414\n",
      "otherrace             0.1742      0.176      0.988      0.323        -0.171     0.520\n",
      "collegeXblack        -0.3986      0.303     -1.315      0.189        -0.993     0.196\n",
      "collegeXhispanic     -0.2929      0.249     -1.177      0.239        -0.781     0.195\n",
      "collegeXotherrace    -0.4634      0.285     -1.623      0.105        -1.023     0.096\n",
      "==============================================================================\n",
      "Omnibus:                      653.574   Durbin-Watson:                   1.940\n",
      "Prob(Omnibus):                  0.000   Jarque-Bera (JB):             1616.409\n",
      "Skew:                          -0.723   Prob(JB):                         0.00\n",
      "Kurtosis:                       1.545   Cond. No.                         88.9\n",
      "==============================================================================\n",
      "\n",
      "Warnings:\n",
      "[1] Standard Errors assume that the covariance matrix of the errors is correctly specified.\n"
     ]
    }
   ],
   "source": [
    "print \"==============================================================================\"\n",
    "print \"                                  FIRST STAGE\"\n",
    "print \"==============================================================================\"\n",
    "# generate the stage one main effect instrument\n",
    "result = smf.ols(formula = \"college ~ distance + black + hispanic + otherrace +\" +\n",
    "                 \"distance:black + distance:hispanic + distance:otherrace\", data = dee_df).fit()\n",
    "dee_df['college_fitted'] = result.predict()\n",
    "print result.summary()\n",
    "\n",
    "# generate the stage one interaction instrument for distance:black\n",
    "# note that we have DROPPED the irrelevant terms. \n",
    "# The full form for each interaction, which gives the exact same result, is:\n",
    "# result = smf.ols(formula = \"college:black ~ distance + black + hispanic + otherrace +\" +\n",
    "#                 \"distance:black + distance:hispanic + distance:otherrace\", data = dee_df).fit()\n",
    "\n",
    "result = smf.ols(formula = \"college:black ~ distance + black + distance:black\", data = dee_df).fit()\n",
    "dee_df['collegeXblack'] = result.predict()\n",
    "\n",
    "\n",
    "# generate the stage one interaction instrument for distance:hispanic\n",
    "result = smf.ols(formula = \"college:hispanic ~ distance + hispanic + distance:hispanic\", data = dee_df).fit()\n",
    "dee_df['collegeXhispanic'] = result.predict()\n",
    "\n",
    "# generate the stage one interaction instrument for distance:hispanic\n",
    "result = smf.ols(formula = \"college:otherrace ~ distance + otherrace + distance:otherrace\", data = dee_df).fit()\n",
    "dee_df['collegeXotherrace'] = result.predict()\n",
    "\n",
    "# generate the final model, that includes these interactions as predictors\n",
    "result = smf.ols(formula = \"register ~ college_fitted + black + hispanic + otherrace +\" +\n",
    "                 \"collegeXblack + collegeXhispanic + collegeXotherrace\", data = dee_df).fit()\n",
    "print result.summary()"
   ]
  },
  {
   "cell_type": "markdown",
   "metadata": {},
   "source": [
    "^^^ in this particular case, we find no significant interactions and fall back on our previous model, which simply included race/ethnicity as a covariate"
   ]
  },
  {
   "cell_type": "markdown",
   "metadata": {},
   "source": [
    "# Binomial Regression: Logistic Model"
   ]
  },
  {
   "cell_type": "markdown",
   "metadata": {},
   "source": [
    "In this example, we use a logistic model with a two-stage least-squares regression. NOTE: This is not attempted in the textbook example, so I cannot be completely certain about this, unlike the above results."
   ]
  },
  {
   "cell_type": "code",
   "execution_count": 38,
   "metadata": {
    "collapsed": false
   },
   "outputs": [
    {
     "name": "stdout",
     "output_type": "stream",
     "text": [
      "==============================================================================\n",
      "                                  FIRST STAGE\n",
      "==============================================================================\n",
      "                 Generalized Linear Model Regression Results                  \n",
      "==============================================================================\n",
      "Dep. Variable:                college   No. Observations:                 9227\n",
      "Model:                            GLM   Df Residuals:                     9222\n",
      "Model Family:                Binomial   Df Model:                            4\n",
      "Link Function:                  logit   Scale:                             1.0\n",
      "Method:                          IRLS   Log-Likelihood:                -6253.9\n",
      "Date:                Wed, 18 Mar 2015   Deviance:                       12508.\n",
      "Time:                        22:15:20   Pearson chi2:                 9.23e+03\n",
      "No. Iterations:                     6                                         \n",
      "==============================================================================\n",
      "                 coef    std err          z      P>|z|      [95.0% Conf. Int.]\n",
      "------------------------------------------------------------------------------\n",
      "Intercept      0.5840      0.038     15.447      0.000         0.510     0.658\n",
      "distance      -0.0283      0.002    -11.456      0.000        -0.033    -0.023\n",
      "black         -0.2372      0.066     -3.621      0.000        -0.366    -0.109\n",
      "hispanic      -0.4744      0.055     -8.699      0.000        -0.581    -0.368\n",
      "otherrace      0.1426      0.101      1.414      0.157        -0.055     0.340\n",
      "==============================================================================\n",
      "\n",
      "\n",
      "==============================================================================\n",
      "                                  SECOND STAGE\n",
      "==============================================================================\n",
      "                 Generalized Linear Model Regression Results                  \n",
      "==============================================================================\n",
      "Dep. Variable:               register   No. Observations:                 9227\n",
      "Model:                            GLM   Df Residuals:                     9222\n",
      "Model Family:                Binomial   Df Model:                            4\n",
      "Link Function:                  logit   Scale:                             1.0\n",
      "Method:                          IRLS   Log-Likelihood:                -5825.1\n",
      "Date:                Wed, 18 Mar 2015   Deviance:                       11650.\n",
      "Time:                        22:15:20   Pearson chi2:                 9.23e+03\n",
      "No. Iterations:                     6                                         \n",
      "==================================================================================\n",
      "                     coef    std err          z      P>|z|      [95.0% Conf. Int.]\n",
      "----------------------------------------------------------------------------------\n",
      "Intercept          0.0572      0.211      0.272      0.786        -0.356     0.470\n",
      "college_fitted     1.1312      0.367      3.079      0.002         0.411     1.851\n",
      "black              0.2899      0.073      3.995      0.000         0.148     0.432\n",
      "hispanic           0.1284      0.068      1.886      0.059        -0.005     0.262\n",
      "otherrace         -0.4589      0.101     -4.566      0.000        -0.656    -0.262\n",
      "==================================================================================\n"
     ]
    }
   ],
   "source": [
    "print \"==============================================================================\"\n",
    "print \"                                  FIRST STAGE\"\n",
    "print \"==============================================================================\"\n",
    "result = smf.glm(formula = \"college ~ distance + black + hispanic + otherrace\", \n",
    "                 data=dee_df,\n",
    "                 family=sm.families.Binomial()).fit()\n",
    "print result.summary()\n",
    "dee_df['college_fitted'] = result.predict()\n",
    "\n",
    "print\n",
    "print\n",
    "print \"==============================================================================\"\n",
    "print \"                                  SECOND STAGE\"\n",
    "print \"==============================================================================\"#\n",
    "result = smf.glm(formula = \"register ~ college_fitted + black + hispanic + otherrace\",\n",
    "                 data=dee_df,\n",
    "                 family=sm.families.Binomial()).fit()\n",
    "print result.summary()"
   ]
  },
  {
   "cell_type": "markdown",
   "metadata": {},
   "source": [
    "# Binomial Regression: Probit Model"
   ]
  },
  {
   "cell_type": "markdown",
   "metadata": {},
   "source": [
    "In this example, we use a probit model with a two-stage least-squares regression. NOTE: This is not attempted in the textbook example, so I cannot be completely certain about this, unlike the above results."
   ]
  },
  {
   "cell_type": "code",
   "execution_count": 39,
   "metadata": {
    "collapsed": false
   },
   "outputs": [
    {
     "name": "stdout",
     "output_type": "stream",
     "text": [
      "==============================================================================\n",
      "                                  FIRST STAGE\n",
      "==============================================================================\n",
      "Optimization terminated successfully.\n",
      "         Current function value: 0.677791\n",
      "         Iterations 4\n",
      "                          Probit Regression Results                           \n",
      "==============================================================================\n",
      "Dep. Variable:                college   No. Observations:                 9227\n",
      "Model:                         Probit   Df Residuals:                     9222\n",
      "Method:                           MLE   Df Model:                            4\n",
      "Date:                Wed, 18 Mar 2015   Pseudo R-squ.:                 0.01585\n",
      "Time:                        22:15:20   Log-Likelihood:                -6254.0\n",
      "converged:                       True   LL-Null:                       -6354.7\n",
      "                                        LLR p-value:                 1.862e-42\n",
      "==============================================================================\n",
      "                 coef    std err          z      P>|z|      [95.0% Conf. Int.]\n",
      "------------------------------------------------------------------------------\n",
      "Intercept      0.3640      0.023     15.566      0.000         0.318     0.410\n",
      "distance      -0.0176      0.002    -11.504      0.000        -0.021    -0.015\n",
      "black         -0.1474      0.041     -3.607      0.000        -0.227    -0.067\n",
      "hispanic      -0.2959      0.034     -8.709      0.000        -0.363    -0.229\n",
      "otherrace      0.0888      0.062      1.423      0.155        -0.033     0.211\n",
      "==============================================================================\n",
      "\n",
      "\n",
      "==============================================================================\n",
      "                                  SECOND STAGE\n",
      "==============================================================================\n",
      "Optimization terminated successfully.\n",
      "         Current function value: 0.631312\n",
      "         Iterations 4\n",
      "                          Probit Regression Results                           \n",
      "==============================================================================\n",
      "Dep. Variable:               register   No. Observations:                 9227\n",
      "Model:                         Probit   Df Residuals:                     9222\n",
      "Method:                           MLE   Df Model:                            4\n",
      "Date:                Wed, 18 Mar 2015   Pseudo R-squ.:                0.003563\n",
      "Time:                        22:15:20   Log-Likelihood:                -5825.1\n",
      "converged:                       True   LL-Null:                       -5845.9\n",
      "                                        LLR p-value:                 1.962e-08\n",
      "==================================================================================\n",
      "                     coef    std err          z      P>|z|      [95.0% Conf. Int.]\n",
      "----------------------------------------------------------------------------------\n",
      "Intercept          0.0427      0.129      0.330      0.742        -0.211     0.296\n",
      "college_fitted     0.6903      0.226      3.060      0.002         0.248     1.133\n",
      "black              0.1752      0.044      4.021      0.000         0.090     0.261\n",
      "hispanic           0.0782      0.042      1.879      0.060        -0.003     0.160\n",
      "otherrace         -0.2834      0.063     -4.533      0.000        -0.406    -0.161\n",
      "==================================================================================\n"
     ]
    }
   ],
   "source": [
    "import patsy\n",
    "print \"==============================================================================\"\n",
    "print \"                                  FIRST STAGE\"\n",
    "print \"==============================================================================\"\n",
    "a,b = patsy.dmatrices(\"college ~ distance + black + hispanic + otherrace\",\n",
    "                      dee_df,return_type=\"dataframe\")\n",
    "result = sm.Probit(a,b).fit()\n",
    "print result.summary()\n",
    "dee_df['college_fitted'] = result.predict()\n",
    "\n",
    "\n",
    "print\n",
    "print\n",
    "print \"==============================================================================\"\n",
    "print \"                                  SECOND STAGE\"\n",
    "print \"==============================================================================\"#\n",
    "\n",
    "a,b = patsy.dmatrices(\"register ~ college_fitted + black + hispanic + otherrace\",\n",
    "                      dee_df,return_type=\"dataframe\")\n",
    "result = sm.Probit(a,b).fit()\n",
    "\n",
    "print result.summary()"
   ]
  },
  {
   "cell_type": "code",
   "execution_count": null,
   "metadata": {
    "collapsed": true
   },
   "outputs": [],
   "source": []
  }
 ],
 "metadata": {
  "kernelspec": {
   "display_name": "Python 2",
   "language": "python",
   "name": "python2"
  },
  "language_info": {
   "codemirror_mode": {
    "name": "ipython",
    "version": 2
   },
   "file_extension": ".py",
   "mimetype": "text/x-python",
   "name": "python",
   "nbconvert_exporter": "python",
   "pygments_lexer": "ipython2",
   "version": "2.7.6"
  }
 },
 "nbformat": 4,
 "nbformat_minor": 0
}
